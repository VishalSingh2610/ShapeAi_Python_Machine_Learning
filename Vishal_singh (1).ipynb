{
  "nbformat": 4,
  "nbformat_minor": 0,
  "metadata": {
    "colab": {
      "name": "Vishal_singh.ipynb",
      "provenance": [],
      "collapsed_sections": []
    },
    "kernelspec": {
      "name": "python3",
      "display_name": "Python 3"
    },
    "language_info": {
      "name": "python"
    }
  },
  "cells": [
    {
      "cell_type": "code",
      "metadata": {
        "id": "drCcwpuf3JW6"
      },
      "source": [
        " \n",
        "import numpy as np \n",
        "import pandas as pd\n",
        "import sklearn"
      ],
      "execution_count": 26,
      "outputs": []
    },
    {
      "cell_type": "code",
      "metadata": {
        "id": "wdDe8VR93i41"
      },
      "source": [
        " \n",
        "from sklearn.datasets import load_boston\n",
        " \n",
        "df=load_boston()"
      ],
      "execution_count": 27,
      "outputs": []
    },
    {
      "cell_type": "code",
      "metadata": {
        "colab": {
          "base_uri": "https://localhost:8080/"
        },
        "id": "2E4ehmmM30GW",
        "outputId": "8068e695-a7fc-43b3-caed-e481f51a69fc"
      },
      "source": [
        " df.keys ()"
      ],
      "execution_count": 28,
      "outputs": [
        {
          "output_type": "execute_result",
          "data": {
            "text/plain": [
              "dict_keys(['data', 'target', 'feature_names', 'DESCR', 'filename'])"
            ]
          },
          "metadata": {
            "tags": []
          },
          "execution_count": 28
        }
      ]
    },
    {
      "cell_type": "code",
      "metadata": {
        "id": "kjQn0xhi4Tvt"
      },
      "source": [
        "print(df.data)\n",
        "#print(df.target)\n",
        "#print(df.feature_names)\n",
        "#print(df.DESCR)\n",
        "#print(df.filename)"
      ],
      "execution_count": null,
      "outputs": []
    },
    {
      "cell_type": "code",
      "metadata": {
        "id": "O5nmGerj45pr"
      },
      "source": [
        "boston = pd.DataFrame(df.data,columns=df.feature_names)\n",
        "boston.head()"
      ],
      "execution_count": null,
      "outputs": []
    },
    {
      "cell_type": "code",
      "metadata": {
        "id": "MY6iZBGx5hoF"
      },
      "source": [
        " boston ['MEDV'] = df.target \n",
        "boston.head()"
      ],
      "execution_count": null,
      "outputs": []
    },
    {
      "cell_type": "code",
      "metadata": {
        "id": "rglz72dL5t1V"
      },
      "source": [
        " boston.isnull()"
      ],
      "execution_count": null,
      "outputs": []
    },
    {
      "cell_type": "code",
      "metadata": {
        "id": "H0rcSL9J56rS"
      },
      "source": [
        " boston.isnull().sum()"
      ],
      "execution_count": null,
      "outputs": []
    },
    {
      "cell_type": "code",
      "metadata": {
        "id": "FnZjRsnD6GwW"
      },
      "source": [
        " \n",
        "from sklearn.model_selection import train_test_split\n",
        "X = boston.drop('MEDV', axis=1)\n",
        "Y = boston ['MEDV']\n",
        "X_train, X_test, Y_train, Y_test=train_test_split(X, Y, test_size = 0.15,random_state=1) \n",
        "print(X_train.shape)\n",
        "print(X_test.shape)\n",
        "print(Y_train.shape)\n",
        "print(Y_test.shape)"
      ],
      "execution_count": null,
      "outputs": []
    },
    {
      "cell_type": "code",
      "metadata": {
        "id": "imDcqHJw7aTt"
      },
      "source": [
        " from sklearn.linear_model import LinearRegression \n",
        "from sklearn.metrics import mean_squared_error"
      ],
      "execution_count": null,
      "outputs": []
    },
    {
      "cell_type": "code",
      "metadata": {
        "id": "Fs0xBxer7uGA"
      },
      "source": [
        " \n",
        "lin_model = LinearRegression ()\n",
        " \n",
        "lin_model.fit(X_train, Y_train)"
      ],
      "execution_count": null,
      "outputs": []
    },
    {
      "cell_type": "code",
      "metadata": {
        "id": "aROZl60V79Pl"
      },
      "source": [
        " \n",
        "y_train_predict = lin_model.predict(X_train)\n",
        " \n",
        "rmse=(np.sqrt(mean_squared_error(Y_train, y_train_predict)))\n",
        " \n",
        "print(\"The model performance for training set\") \n",
        "print('RMSE is {}'.format(rmse)) \n",
        "print(\"\\n\")"
      ],
      "execution_count": null,
      "outputs": []
    },
    {
      "cell_type": "code",
      "metadata": {
        "id": "vqDLFZ0o8bcb"
      },
      "source": [
        " \n",
        "y_test_predict = lin_model.predict (X_test) \n",
        "rmse = (np.sqrt (mean_squared_error(Y_test, y_test_predict)))\n",
        " \n",
        "print(\"The model performance for testing set\") \n",
        "print('RMSE is {}'.format(rmse))"
      ],
      "execution_count": null,
      "outputs": []
    }
  ]
}